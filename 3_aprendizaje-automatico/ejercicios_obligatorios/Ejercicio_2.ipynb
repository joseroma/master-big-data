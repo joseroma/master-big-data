{
  "nbformat": 4,
  "nbformat_minor": 0,
  "metadata": {
    "colab": {
      "name": "Ejercicio 2.ipynb",
      "provenance": [],
      "collapsed_sections": [],
      "toc_visible": true
    },
    "kernelspec": {
      "name": "python3",
      "display_name": "Python 3"
    }
  },
  "cells": [
    {
      "cell_type": "markdown",
      "metadata": {
        "id": "fFuPfmkO4rgE"
      },
      "source": [
        "## Enunciado\n",
        "\n",
        "Crea un conjunto de datos utilizando el siguiente código:\n",
        "\n",
        "```\n",
        "trX = np.linspace(-1, 1, 101)\n",
        "\n",
        "trY = np.linspace(-1, 1, 101)\n",
        "\n",
        "for i in range(len(trY)):\n",
        "\n",
        "trY[i] = math.log(1 + 0.5 * abs(trX[i])) + trX[i] / 3 + np.random.randn() * 0.033\n",
        "```\n",
        "\n",
        "Ahora, utiliza Theano para obtener los parámetros w_0 y w_1 del siguiente modelo:\n",
        "\n",
        "```\n",
        "y = log (1+ wo|x|)+ w1*x\n",
        "```\n",
        "\n",
        "utilizando los datos generados anteriormente.\n",
        "\n",
        "\n",
        "## Resolución"
      ]
    },
    {
      "cell_type": "code",
      "metadata": {
        "id": "9T-FoNU55L8O"
      },
      "source": [
        "import numpy as np\n",
        "import math\n",
        "import theano\n",
        "from theano import tensor as T\n",
        "import matplotlib.pyplot as plt"
      ],
      "execution_count": 16,
      "outputs": []
    },
    {
      "cell_type": "code",
      "metadata": {
        "id": "PKymUmKL4e7d"
      },
      "source": [
        "trX = np.linspace(-1, 1, 101)\n",
        " \n",
        "trY = np.linspace(-1, 1, 101)\n",
        " \n",
        "for i in range(len(trY)):\n",
        "  trY[i] = math.log(1 + 0.5 * abs(trX[i])) + trX[i] / 3 + np.random.randn() * 0.033"
      ],
      "execution_count": 17,
      "outputs": []
    },
    {
      "cell_type": "code",
      "metadata": {
        "id": "XWPpY89_5r-p",
        "outputId": "0b7eb6f9-6b20-4f0a-d716-d5f146c60bb4",
        "colab": {
          "base_uri": "https://localhost:8080/"
        }
      },
      "source": [
        "X = T.scalar()\n",
        "Y = T.scalar()\n",
        "\n",
        "def model(X,w_0,w_1):\n",
        "    return np.log(1+w_0*abs(X))+w_1*X\n",
        "\n",
        "\n",
        "w_0 = theano.shared(np.asarray(0., dtype = theano.config.floatX))\n",
        "w_1 = theano.shared(np.asarray(0., dtype = theano.config.floatX))\n",
        "y = model(X, w_0, w_1)\n",
        "\n",
        "cost     = T.mean(T.sqr(y - Y))\n",
        "gradient_w_0 = T.grad(cost = cost, wrt = w_0)\n",
        "gradient_w_1 = T.grad(cost = cost, wrt = w_1)\n",
        "updates  = [[w_0, w_0 - gradient_w_0 * 0.01], [w_1, w_1 - gradient_w_1 * 0.01]]\n",
        "\n",
        "train = theano.function(inputs = [X, Y],\n",
        "                        outputs = cost,\n",
        "                        updates = updates,\n",
        "                        allow_input_downcast = True)\n",
        "\n",
        "for i in range(15):\n",
        "    for x, y in zip(trX, trY):\n",
        "        cost_i = train(x, y)\n",
        "    print('En el paso', i, 'el valor de w_0 es', w_0.get_value(), 'y w_1 es', w_1.get_value(), 'con un coste', cost_i) "
      ],
      "execution_count": 18,
      "outputs": [
        {
          "output_type": "stream",
          "text": [
            "En el paso 0 el valor de w_0 es 0.20460129381641073 y w_1 es 0.17191429393402743 con un coste 0.17480417673000756\n",
            "En el paso 1 el valor de w_0 es 0.31277588407047174 y w_1 es 0.2595697508007672 con un coste 0.05654755393786913\n",
            "En el paso 2 el valor de w_0 es 0.3787458677265587 y w_1 es 0.3025149508709371 con un coste 0.02034955738664183\n",
            "En el paso 3 el valor de w_0 es 0.42140681081779585 y w_1 es 0.32303643135071086 con un coste 0.008098593368910166\n",
            "En el paso 4 el valor de w_0 es 0.4498148347472838 y w_1 es 0.3325580307196829 con un coste 0.003570550043569701\n",
            "En el paso 5 el valor de w_0 es 0.4690406072923953 y w_1 es 0.33678371331323675 con un coste 0.0017484622894213698\n",
            "En el paso 6 el valor de w_0 es 0.4821765760052792 y w_1 es 0.3385181726589649 con un coste 0.0009518478459226435\n",
            "En el paso 7 el valor de w_0 es 0.4912042439095383 y w_1 es 0.33912035745973007 con un coste 0.0005747843503653302\n",
            "En el paso 8 el valor de w_0 es 0.49743137349436883 y w_1 es 0.3392365710649276 con un coste 0.00038266418940868395\n",
            "En el paso 9 el valor de w_0 es 0.5017369214730218 y w_1 es 0.33916597679584487 con un coste 0.0002781204029453341\n",
            "En el paso 10 el valor de w_0 es 0.5047184502242241 y w_1 es 0.3390411771870061 con un coste 0.00021793234562167256\n",
            "En el paso 11 el valor de w_0 es 0.5067852103174838 y w_1 es 0.33891656833518524 con un coste 0.00018163415997627362\n",
            "En el paso 12 el valor de w_0 es 0.5082188246864275 y w_1 es 0.33881103809603347 con un coste 0.0001589217225962194\n",
            "En el paso 13 el valor de w_0 es 0.509213697962133 y w_1 es 0.3387282426701047 con un coste 0.00014430147023909972\n",
            "En el paso 14 el valor de w_0 es 0.5099043057478992 y w_1 es 0.33866598401129944 con un coste 0.00013468796317804728\n"
          ],
          "name": "stdout"
        }
      ]
    }
  ]
}